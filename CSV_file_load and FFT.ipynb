{
 "cells": [
  {
   "cell_type": "markdown",
   "id": "ff4cfa21",
   "metadata": {},
   "source": [
    "## @Tektrnoix scope data: csv file load and fft(Sensor Signal)"
   ]
  },
  {
   "cell_type": "markdown",
   "id": "e73e61d3",
   "metadata": {},
   "source": [
    "## 1. 파이썬 모듈 불러오기"
   ]
  },
  {
   "cell_type": "code",
   "execution_count": 49,
   "id": "44efd0eb",
   "metadata": {},
   "outputs": [],
   "source": [
    "#Python 모듈\n",
    "import os \n",
    "from IPython.display import display, HTML\n",
    "import warnings\n",
    "warnings.filterwarnings(action='ignore')\n",
    "\n",
    "\n",
    "# 데이터 전처리 모듈\n",
    "import numpy as np\n",
    "import pandas as pd\n",
    "from sklearn.preprocessing import StandardScaler\n",
    "from tqdm import tqdm\n",
    "\n",
    "\n",
    "# 시각화 모듈\n",
    "import seaborn as sns \n",
    "import matplotlib.pyplot as plt\n",
    "import matplotlib.patches as mpatches\n",
    "import matplotlib\n",
    "import mplcursors\n",
    "from matplotlib.colors import ListedColormap\n",
    "matplotlib.rcParams['axes.unicode_minus'] = False\n",
    "%matplotlib inline\n",
    "\n",
    "#한글 폰트 설정 모듈\n",
    "plt.rc('font', family='Malgun Gothic')\n",
    "\n",
    "\n",
    "# 이미지 파일 불러오기 모듈\n",
    "from IPython.display import Image"
   ]
  },
  {
   "cell_type": "markdown",
   "id": "b6a541d0",
   "metadata": {},
   "source": [
    "## 2. 데이터 경로 설정하기"
   ]
  },
  {
   "cell_type": "code",
   "execution_count": 50,
   "id": "a1b995cf",
   "metadata": {},
   "outputs": [
    {
     "name": "stdout",
     "output_type": "stream",
     "text": [
      "C:\\Users\\taeyu\n"
     ]
    }
   ],
   "source": [
    "os.chdir(\"C:/Users/taeyu\") #데이터 경로\n",
    "print(os.getcwd())"
   ]
  },
  {
   "cell_type": "markdown",
   "id": "0dd2ae40",
   "metadata": {},
   "source": [
    "## 3. csv 파일 불러오기(Tektrnoix MSO54 모델 설정)"
   ]
  },
  {
   "cell_type": "code",
   "execution_count": 51,
   "id": "eba84443",
   "metadata": {},
   "outputs": [],
   "source": [
    "df = pd.read_csv('signal.csv', header=None, index_col = False, skiprows=22) # Dataframe 데이터 , skiprows=1"
   ]
  },
  {
   "cell_type": "code",
   "execution_count": 52,
   "id": "379b0979",
   "metadata": {},
   "outputs": [
    {
     "data": {
      "text/html": [
       "<div>\n",
       "<style scoped>\n",
       "    .dataframe tbody tr th:only-of-type {\n",
       "        vertical-align: middle;\n",
       "    }\n",
       "\n",
       "    .dataframe tbody tr th {\n",
       "        vertical-align: top;\n",
       "    }\n",
       "\n",
       "    .dataframe thead th {\n",
       "        text-align: right;\n",
       "    }\n",
       "</style>\n",
       "<table border=\"1\" class=\"dataframe\">\n",
       "  <thead>\n",
       "    <tr style=\"text-align: right;\">\n",
       "      <th></th>\n",
       "      <th>0</th>\n",
       "      <th>1</th>\n",
       "    </tr>\n",
       "  </thead>\n",
       "  <tbody>\n",
       "    <tr>\n",
       "      <th>0</th>\n",
       "      <td>-0.000005</td>\n",
       "      <td>0.0</td>\n",
       "    </tr>\n",
       "    <tr>\n",
       "      <th>1</th>\n",
       "      <td>-0.000005</td>\n",
       "      <td>0.0</td>\n",
       "    </tr>\n",
       "    <tr>\n",
       "      <th>2</th>\n",
       "      <td>-0.000005</td>\n",
       "      <td>0.0</td>\n",
       "    </tr>\n",
       "    <tr>\n",
       "      <th>3</th>\n",
       "      <td>-0.000005</td>\n",
       "      <td>0.0</td>\n",
       "    </tr>\n",
       "    <tr>\n",
       "      <th>4</th>\n",
       "      <td>-0.000005</td>\n",
       "      <td>0.0</td>\n",
       "    </tr>\n",
       "  </tbody>\n",
       "</table>\n",
       "</div>"
      ],
      "text/plain": [
       "          0    1\n",
       "0 -0.000005  0.0\n",
       "1 -0.000005  0.0\n",
       "2 -0.000005  0.0\n",
       "3 -0.000005  0.0\n",
       "4 -0.000005  0.0"
      ]
     },
     "execution_count": 52,
     "metadata": {},
     "output_type": "execute_result"
    }
   ],
   "source": [
    "df.head()"
   ]
  },
  {
   "cell_type": "markdown",
   "id": "3591c24d",
   "metadata": {},
   "source": [
    "## 4. 데이터 정보(Raw_data)"
   ]
  },
  {
   "cell_type": "code",
   "execution_count": 53,
   "id": "a10a4dee",
   "metadata": {
    "scrolled": true
   },
   "outputs": [
    {
     "name": "stdout",
     "output_type": "stream",
     "text": [
      "sample length : 62500\n",
      "Samling time : 1.6000000000018143e-10\n",
      "Samling Frequency : 6249999999.992913\n"
     ]
    }
   ],
   "source": [
    "n_samples = len(df[0])\n",
    "print('sample length :',n_samples)\n",
    "\n",
    "dt = df.iloc[2,0] - df.iloc[1,0]\n",
    "print('Samling time :',dt)\n",
    "\n",
    "time_f= 1/dt\n",
    "print('Samling Frequency :',time_f)"
   ]
  },
  {
   "cell_type": "markdown",
   "id": "36c0d1f2",
   "metadata": {},
   "source": [
    "## 5. 데이터 형변환(DataFrame -> nparray"
   ]
  },
  {
   "cell_type": "code",
   "execution_count": 54,
   "id": "fa1d7a88",
   "metadata": {},
   "outputs": [],
   "source": [
    "data = df.to_numpy()"
   ]
  },
  {
   "cell_type": "markdown",
   "id": "7d9b6f35",
   "metadata": {},
   "source": [
    "## 6. Time domain 시각화"
   ]
  },
  {
   "cell_type": "code",
   "execution_count": 55,
   "id": "0a9b1d10",
   "metadata": {},
   "outputs": [
    {
     "data": {
      "image/png": "[encoded data removed]",
      "text/plain": [
       "<Figure size 576x576 with 1 Axes>"
      ]
     },
     "metadata": {
      "needs_background": "light"
     },
     "output_type": "display_data"
    }
   ],
   "source": [
    "X = data[:,0]\n",
    "Y1 = data[:,1]\n",
    "\n",
    "plt.figure(figsize=(8,8))\n",
    "plt.plot(X,Y1,'r', label='Y1')\n",
    "plt.xlabel(\"Time [s]\", fontsize=25)\n",
    "plt.ylabel(\"Voltage [V]\", fontsize=25)\n",
    "plt.xticks(fontsize=18)\n",
    "plt.yticks(fontsize=18)\n",
    "plt.legend(fontsize = 18)\n",
    "plt.grid()"
   ]
  },
  {
   "cell_type": "markdown",
   "id": "f7d9af3c",
   "metadata": {},
   "source": [
    "## 7. 신호의 퓨리에 변환(FFFT)"
   ]
  },
  {
   "cell_type": "code",
   "execution_count": 56,
   "id": "192018d2",
   "metadata": {},
   "outputs": [],
   "source": [
    "fft = np.fft.fft(Y1) / len(Y1)  \n",
    "fft_magnitude = abs(fft)\n",
    "\n",
    "length = len(Y1)\n",
    "f = (np.linspace(-(time_f / 2), time_f / 2, n_samples))*10*10**-6\n",
    "f_Y = np.fft.fftshift(fft_magnitude)\n"
   ]
  },
  {
   "cell_type": "code",
   "execution_count": 57,
   "id": "0870d8e8",
   "metadata": {},
   "outputs": [
    {
     "data": {
      "image/png": "[encoded data removed]",
      "text/plain": [
       "<Figure size 432x288 with 2 Axes>"
      ]
     },
     "metadata": {
      "needs_background": "light"
     },
     "output_type": "display_data"
    }
   ],
   "source": [
    "plt.subplot(2,1,1)\n",
    "plt.plot(X,Y1)\n",
    "plt.grid()\n",
    " \n",
    "plt.subplot(2,1,2)\n",
    "plt.plot(f, np.fft.fftshift(fft_magnitude)) \n",
    "plt.grid()\n",
    "plt.show()"
   ]
  },
  {
   "cell_type": "markdown",
   "id": "548f50f3",
   "metadata": {},
   "source": [
    "## 8. FFT 시각화"
   ]
  },
  {
   "cell_type": "code",
   "execution_count": 58,
   "id": "2cb4a59f",
   "metadata": {
    "scrolled": true
   },
   "outputs": [
    {
     "data": {
      "image/png": "[encoded data removed]",
      "text/plain": [
       "<Figure size 432x288 with 1 Axes>"
      ]
     },
     "metadata": {
      "needs_background": "light"
     },
     "output_type": "display_data"
    }
   ],
   "source": [
    "plt.figure()\n",
    "plt.plot(f,f_Y,'r', label='PD_signal_FFT')\n",
    "plt.xlabel(\"Frequency [MHz]\", fontsize=25)\n",
    "plt.ylabel(\"Magnitude [V]\", fontsize=25)\n",
    "plt.xticks(fontsize=16)\n",
    "plt.yticks(fontsize=16)\n",
    "plt.xlim([0, 5000])\n",
    "#plt.ylim([0, 0.0005])\n",
    "plt.legend(fontsize = 22)\n",
    "plt.grid()\n",
    "plt.show()"
   ]
  },
  {
   "cell_type": "code",
   "execution_count": null,
   "id": "98d68b8f",
   "metadata": {},
   "outputs": [],
   "source": []
  },
  {
   "cell_type": "code",
   "execution_count": null,
   "id": "4981efda",
   "metadata": {},
   "outputs": [],
   "source": []
  }
 ],
 "metadata": {
  "kernelspec": {
   "display_name": "Python 3 (ipykernel)",
   "language": "python",
   "name": "python3"
  },
  "language_info": {
   "codemirror_mode": {
    "name": "ipython",
    "version": 3
   },
   "file_extension": ".py",
   "mimetype": "text/x-python",
   "name": "python",
   "nbconvert_exporter": "python",
   "pygments_lexer": "ipython3",
   "version": "3.9.7"
  }
 },
 "nbformat": 4,
 "nbformat_minor": 5
}
